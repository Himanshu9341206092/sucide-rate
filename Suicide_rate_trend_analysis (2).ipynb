{
  "cells": [
    {
      "cell_type": "code",
      "execution_count": null,
      "metadata": {
        "id": "cu6coYBNeZUf"
      },
      "outputs": [],
      "source": [
        "#Import Of Necessary Libraries\n",
        "import pandas as pd\n",
        "import numpy as np\n",
        "import matplotlib.pyplot as plt\n",
        "import seaborn as sns"
      ]
    },
    {
      "cell_type": "code",
      "execution_count": null,
      "metadata": {
        "id": "8Tl45xykTGnx"
      },
      "outputs": [],
      "source": [
        "import warnings\n",
        "warnings.simplefilter(\"ignore\")"
      ]
    },
    {
      "cell_type": "code",
      "execution_count": null,
      "metadata": {
        "id": "EniRYYx_cvfW"
      },
      "outputs": [],
      "source": [
        "data=pd.read_csv('master.csv')"
      ]
    },
    {
      "cell_type": "code",
      "execution_count": null,
      "metadata": {
        "id": "syWXPPfUeZVJ"
      },
      "outputs": [],
      "source": [
        "data.head()"
      ]
    },
    {
      "cell_type": "code",
      "execution_count": null,
      "metadata": {
        "id": "CRElyVEeTGn0"
      },
      "outputs": [],
      "source": [
        "data.country.unique()"
      ]
    },
    {
      "cell_type": "code",
      "execution_count": null,
      "metadata": {
        "id": "qLyaLrKDeZVX"
      },
      "outputs": [],
      "source": [
        "data.dtypes"
      ]
    },
    {
      "cell_type": "code",
      "execution_count": null,
      "metadata": {
        "id": "wUWbqeUYeZVk"
      },
      "outputs": [],
      "source": [
        "data.info()"
      ]
    },
    {
      "cell_type": "markdown",
      "metadata": {
        "id": "ogV4Z57AP9Qb"
      },
      "source": [
        "**<h2> Exploratory Data Analysis**"
      ]
    },
    {
      "cell_type": "code",
      "execution_count": null,
      "metadata": {
        "id": "FyoZWPOweZV7"
      },
      "outputs": [],
      "source": [
        "#Data Cleaning\n",
        "data[\"gdp_for_year\"]=data[\" gdp_for_year\"]"
      ]
    },
    {
      "cell_type": "code",
      "execution_count": null,
      "metadata": {
        "id": "M6xDPR7JeZWD"
      },
      "outputs": [],
      "source": [
        "data.drop(\" gdp_for_year\",axis=1,inplace=True)"
      ]
    },
    {
      "cell_type": "code",
      "execution_count": null,
      "metadata": {
        "id": "EnQsOZAJTGn3"
      },
      "outputs": [],
      "source": [
        "data.info()"
      ]
    },
    {
      "cell_type": "code",
      "execution_count": null,
      "metadata": {
        "id": "YkHr6TSUeZWN"
      },
      "outputs": [],
      "source": [
        "data[\"gdp_for_year\"]=data.gdp_for_year.str.replace(\",\",\"\")"
      ]
    },
    {
      "cell_type": "code",
      "execution_count": null,
      "metadata": {
        "id": "Hz9DY-8OTGn5"
      },
      "outputs": [],
      "source": [
        "data.head()"
      ]
    },
    {
      "cell_type": "code",
      "execution_count": null,
      "metadata": {
        "id": "ZU958nkjeZWW"
      },
      "outputs": [],
      "source": [
        "data[\"gdp_for_year\"]=data[\"gdp_for_year\"].astype(float)"
      ]
    },
    {
      "cell_type": "markdown",
      "metadata": {
        "id": "FyQZRnb4kn_z"
      },
      "source": [
        "**<h3>Count Plot for Generations**"
      ]
    },
    {
      "cell_type": "code",
      "execution_count": null,
      "metadata": {
        "id": "Zdva0j2geZWh"
      },
      "outputs": [],
      "source": [
        "plt.figure(figsize=(30,5))\n",
        "sns.countplot(data['generation'])"
      ]
    },
    {
      "cell_type": "code",
      "execution_count": null,
      "metadata": {
        "id": "1HXnl68keZW6"
      },
      "outputs": [],
      "source": [
        "from sklearn.preprocessing import LabelEncoder\n",
        "label_encoder1=LabelEncoder()\n",
        "data[\"sex\"]=label_encoder1.fit_transform(data[\"sex\"])"
      ]
    },
    {
      "cell_type": "code",
      "execution_count": null,
      "metadata": {
        "id": "nJNotmXJeZXE"
      },
      "outputs": [],
      "source": [
        "label_encoder2=LabelEncoder()\n",
        "data[\"generation\"]=label_encoder2.fit_transform(data[\"generation\"])"
      ]
    },
    {
      "cell_type": "code",
      "execution_count": null,
      "metadata": {
        "id": "ows5BmhueZXM"
      },
      "outputs": [],
      "source": [
        "data=data.fillna(0)"
      ]
    },
    {
      "cell_type": "code",
      "execution_count": null,
      "metadata": {
        "id": "AIF8x8NZeZXU"
      },
      "outputs": [],
      "source": [
        "data.drop(columns=[\"country\",\"country-year\",\"age\"],axis=1,inplace=True)"
      ]
    },
    {
      "cell_type": "code",
      "execution_count": null,
      "metadata": {
        "id": "KyI9Ila6eZXb"
      },
      "outputs": [],
      "source": [
        "data.head()"
      ]
    },
    {
      "cell_type": "markdown",
      "metadata": {
        "id": "gc6FSWQWRPds"
      },
      "source": [
        "**<h3> Comparing Number of Suicides Between Both the Sexes**"
      ]
    },
    {
      "cell_type": "code",
      "execution_count": null,
      "metadata": {
        "id": "w43KFPUDeZXp"
      },
      "outputs": [],
      "source": [
        "sns.barplot(x='sex',y='suicides_no',data=data)"
      ]
    },
    {
      "cell_type": "code",
      "execution_count": null,
      "metadata": {
        "id": "SaeTrBBueZXy"
      },
      "outputs": [],
      "source": [
        "plt.figure(figsize=(15,5))\n",
        "sns.lineplot(x='year',y='gdp_for_year',data=data)"
      ]
    },
    {
      "cell_type": "markdown",
      "metadata": {
        "id": "I4mBqnS0RgnA"
      },
      "source": [
        "**<h3> Suicide rate over the given period between both the genders**"
      ]
    },
    {
      "cell_type": "code",
      "execution_count": null,
      "metadata": {
        "id": "t508DGhWeZX6"
      },
      "outputs": [],
      "source": [
        "plt.figure(figsize=(15,5))\n",
        "sns.lineplot(x='year',y='suicides_no',hue='sex',data=data)"
      ]
    },
    {
      "cell_type": "code",
      "execution_count": null,
      "metadata": {
        "id": "x7Xqi-GceZYE"
      },
      "outputs": [],
      "source": [
        "data.dtypes"
      ]
    },
    {
      "cell_type": "code",
      "execution_count": null,
      "metadata": {
        "colab": {
          "base_uri": "https://localhost:8080/",
          "height": 532
        },
        "id": "-PdSHkhieZYN",
        "outputId": "d06cf205-dcae-4d2c-bd32-ee50e87cc026",
        "scrolled": true
      },
      "outputs": [
        {
          "output_type": "execute_result",
          "data": {
            "text/plain": [
              "                           year           sex  suicides_no  population  \\\n",
              "year               1.000000e+00 -1.577200e-16    -0.004546    0.008850   \n",
              "sex               -1.577200e-16  1.000000e+00     0.144629   -0.011242   \n",
              "suicides_no       -4.545958e-03  1.446292e-01     1.000000    0.616162   \n",
              "population         8.850170e-03 -1.124208e-02     0.616162    1.000000   \n",
              "suicides/100k pop -3.903680e-02  3.914965e-01     0.306604    0.008285   \n",
              "HDI for year       3.431898e-01  7.337812e-17    -0.017308    0.009375   \n",
              "gdp_per_capita     3.391343e-01 -2.964946e-16     0.061330    0.081510   \n",
              "generation         2.683006e-01 -2.929210e-17    -0.070624   -0.067963   \n",
              "gdp_for_year       9.452857e-02 -1.386038e-15     0.430096    0.710697   \n",
              "\n",
              "                   suicides/100k pop  HDI for year  gdp_per_capita  \\\n",
              "year                       -0.039037  3.431898e-01    3.391343e-01   \n",
              "sex                         0.391496  7.337812e-17   -2.964946e-16   \n",
              "suicides_no                 0.306604 -1.730773e-02    6.132975e-02   \n",
              "population                  0.008285  9.374731e-03    8.150986e-02   \n",
              "suicides/100k pop           1.000000 -2.290278e-02    1.785134e-03   \n",
              "HDI for year               -0.022903  1.000000e+00    2.165182e-01   \n",
              "gdp_per_capita              0.001785  2.165182e-01    1.000000e+00   \n",
              "generation                 -0.049820  4.865837e-02    8.289921e-02   \n",
              "gdp_for_year                0.025240  7.375306e-02    3.034045e-01   \n",
              "\n",
              "                     generation  gdp_for_year  \n",
              "year               2.683006e-01  9.452857e-02  \n",
              "sex               -2.929210e-17 -1.386038e-15  \n",
              "suicides_no       -7.062371e-02  4.300959e-01  \n",
              "population        -6.796261e-02  7.106973e-01  \n",
              "suicides/100k pop -4.982007e-02  2.523964e-02  \n",
              "HDI for year       4.865837e-02  7.375306e-02  \n",
              "gdp_per_capita     8.289921e-02  3.034045e-01  \n",
              "generation         1.000000e+00  2.125070e-02  \n",
              "gdp_for_year       2.125070e-02  1.000000e+00  "
            ],
            "text/html": [
              "\n",
              "  <div id=\"df-1b36a122-a588-48c5-a17e-867a5556f303\">\n",
              "    <div class=\"colab-df-container\">\n",
              "      <div>\n",
              "<style scoped>\n",
              "    .dataframe tbody tr th:only-of-type {\n",
              "        vertical-align: middle;\n",
              "    }\n",
              "\n",
              "    .dataframe tbody tr th {\n",
              "        vertical-align: top;\n",
              "    }\n",
              "\n",
              "    .dataframe thead th {\n",
              "        text-align: right;\n",
              "    }\n",
              "</style>\n",
              "<table border=\"1\" class=\"dataframe\">\n",
              "  <thead>\n",
              "    <tr style=\"text-align: right;\">\n",
              "      <th></th>\n",
              "      <th>year</th>\n",
              "      <th>sex</th>\n",
              "      <th>suicides_no</th>\n",
              "      <th>population</th>\n",
              "      <th>suicides/100k pop</th>\n",
              "      <th>HDI for year</th>\n",
              "      <th>gdp_per_capita</th>\n",
              "      <th>generation</th>\n",
              "      <th>gdp_for_year</th>\n",
              "    </tr>\n",
              "  </thead>\n",
              "  <tbody>\n",
              "    <tr>\n",
              "      <th>year</th>\n",
              "      <td>1.000000e+00</td>\n",
              "      <td>-1.577200e-16</td>\n",
              "      <td>-0.004546</td>\n",
              "      <td>0.008850</td>\n",
              "      <td>-0.039037</td>\n",
              "      <td>3.431898e-01</td>\n",
              "      <td>3.391343e-01</td>\n",
              "      <td>2.683006e-01</td>\n",
              "      <td>9.452857e-02</td>\n",
              "    </tr>\n",
              "    <tr>\n",
              "      <th>sex</th>\n",
              "      <td>-1.577200e-16</td>\n",
              "      <td>1.000000e+00</td>\n",
              "      <td>0.144629</td>\n",
              "      <td>-0.011242</td>\n",
              "      <td>0.391496</td>\n",
              "      <td>7.337812e-17</td>\n",
              "      <td>-2.964946e-16</td>\n",
              "      <td>-2.929210e-17</td>\n",
              "      <td>-1.386038e-15</td>\n",
              "    </tr>\n",
              "    <tr>\n",
              "      <th>suicides_no</th>\n",
              "      <td>-4.545958e-03</td>\n",
              "      <td>1.446292e-01</td>\n",
              "      <td>1.000000</td>\n",
              "      <td>0.616162</td>\n",
              "      <td>0.306604</td>\n",
              "      <td>-1.730773e-02</td>\n",
              "      <td>6.132975e-02</td>\n",
              "      <td>-7.062371e-02</td>\n",
              "      <td>4.300959e-01</td>\n",
              "    </tr>\n",
              "    <tr>\n",
              "      <th>population</th>\n",
              "      <td>8.850170e-03</td>\n",
              "      <td>-1.124208e-02</td>\n",
              "      <td>0.616162</td>\n",
              "      <td>1.000000</td>\n",
              "      <td>0.008285</td>\n",
              "      <td>9.374731e-03</td>\n",
              "      <td>8.150986e-02</td>\n",
              "      <td>-6.796261e-02</td>\n",
              "      <td>7.106973e-01</td>\n",
              "    </tr>\n",
              "    <tr>\n",
              "      <th>suicides/100k pop</th>\n",
              "      <td>-3.903680e-02</td>\n",
              "      <td>3.914965e-01</td>\n",
              "      <td>0.306604</td>\n",
              "      <td>0.008285</td>\n",
              "      <td>1.000000</td>\n",
              "      <td>-2.290278e-02</td>\n",
              "      <td>1.785134e-03</td>\n",
              "      <td>-4.982007e-02</td>\n",
              "      <td>2.523964e-02</td>\n",
              "    </tr>\n",
              "    <tr>\n",
              "      <th>HDI for year</th>\n",
              "      <td>3.431898e-01</td>\n",
              "      <td>7.337812e-17</td>\n",
              "      <td>-0.017308</td>\n",
              "      <td>0.009375</td>\n",
              "      <td>-0.022903</td>\n",
              "      <td>1.000000e+00</td>\n",
              "      <td>2.165182e-01</td>\n",
              "      <td>4.865837e-02</td>\n",
              "      <td>7.375306e-02</td>\n",
              "    </tr>\n",
              "    <tr>\n",
              "      <th>gdp_per_capita</th>\n",
              "      <td>3.391343e-01</td>\n",
              "      <td>-2.964946e-16</td>\n",
              "      <td>0.061330</td>\n",
              "      <td>0.081510</td>\n",
              "      <td>0.001785</td>\n",
              "      <td>2.165182e-01</td>\n",
              "      <td>1.000000e+00</td>\n",
              "      <td>8.289921e-02</td>\n",
              "      <td>3.034045e-01</td>\n",
              "    </tr>\n",
              "    <tr>\n",
              "      <th>generation</th>\n",
              "      <td>2.683006e-01</td>\n",
              "      <td>-2.929210e-17</td>\n",
              "      <td>-0.070624</td>\n",
              "      <td>-0.067963</td>\n",
              "      <td>-0.049820</td>\n",
              "      <td>4.865837e-02</td>\n",
              "      <td>8.289921e-02</td>\n",
              "      <td>1.000000e+00</td>\n",
              "      <td>2.125070e-02</td>\n",
              "    </tr>\n",
              "    <tr>\n",
              "      <th>gdp_for_year</th>\n",
              "      <td>9.452857e-02</td>\n",
              "      <td>-1.386038e-15</td>\n",
              "      <td>0.430096</td>\n",
              "      <td>0.710697</td>\n",
              "      <td>0.025240</td>\n",
              "      <td>7.375306e-02</td>\n",
              "      <td>3.034045e-01</td>\n",
              "      <td>2.125070e-02</td>\n",
              "      <td>1.000000e+00</td>\n",
              "    </tr>\n",
              "  </tbody>\n",
              "</table>\n",
              "</div>\n",
              "      <button class=\"colab-df-convert\" onclick=\"convertToInteractive('df-1b36a122-a588-48c5-a17e-867a5556f303')\"\n",
              "              title=\"Convert this dataframe to an interactive table.\"\n",
              "              style=\"display:none;\">\n",
              "        \n",
              "  <svg xmlns=\"http://www.w3.org/2000/svg\" height=\"24px\"viewBox=\"0 0 24 24\"\n",
              "       width=\"24px\">\n",
              "    <path d=\"M0 0h24v24H0V0z\" fill=\"none\"/>\n",
              "    <path d=\"M18.56 5.44l.94 2.06.94-2.06 2.06-.94-2.06-.94-.94-2.06-.94 2.06-2.06.94zm-11 1L8.5 8.5l.94-2.06 2.06-.94-2.06-.94L8.5 2.5l-.94 2.06-2.06.94zm10 10l.94 2.06.94-2.06 2.06-.94-2.06-.94-.94-2.06-.94 2.06-2.06.94z\"/><path d=\"M17.41 7.96l-1.37-1.37c-.4-.4-.92-.59-1.43-.59-.52 0-1.04.2-1.43.59L10.3 9.45l-7.72 7.72c-.78.78-.78 2.05 0 2.83L4 21.41c.39.39.9.59 1.41.59.51 0 1.02-.2 1.41-.59l7.78-7.78 2.81-2.81c.8-.78.8-2.07 0-2.86zM5.41 20L4 18.59l7.72-7.72 1.47 1.35L5.41 20z\"/>\n",
              "  </svg>\n",
              "      </button>\n",
              "      \n",
              "  <style>\n",
              "    .colab-df-container {\n",
              "      display:flex;\n",
              "      flex-wrap:wrap;\n",
              "      gap: 12px;\n",
              "    }\n",
              "\n",
              "    .colab-df-convert {\n",
              "      background-color: #E8F0FE;\n",
              "      border: none;\n",
              "      border-radius: 50%;\n",
              "      cursor: pointer;\n",
              "      display: none;\n",
              "      fill: #1967D2;\n",
              "      height: 32px;\n",
              "      padding: 0 0 0 0;\n",
              "      width: 32px;\n",
              "    }\n",
              "\n",
              "    .colab-df-convert:hover {\n",
              "      background-color: #E2EBFA;\n",
              "      box-shadow: 0px 1px 2px rgba(60, 64, 67, 0.3), 0px 1px 3px 1px rgba(60, 64, 67, 0.15);\n",
              "      fill: #174EA6;\n",
              "    }\n",
              "\n",
              "    [theme=dark] .colab-df-convert {\n",
              "      background-color: #3B4455;\n",
              "      fill: #D2E3FC;\n",
              "    }\n",
              "\n",
              "    [theme=dark] .colab-df-convert:hover {\n",
              "      background-color: #434B5C;\n",
              "      box-shadow: 0px 1px 3px 1px rgba(0, 0, 0, 0.15);\n",
              "      filter: drop-shadow(0px 1px 2px rgba(0, 0, 0, 0.3));\n",
              "      fill: #FFFFFF;\n",
              "    }\n",
              "  </style>\n",
              "\n",
              "      <script>\n",
              "        const buttonEl =\n",
              "          document.querySelector('#df-1b36a122-a588-48c5-a17e-867a5556f303 button.colab-df-convert');\n",
              "        buttonEl.style.display =\n",
              "          google.colab.kernel.accessAllowed ? 'block' : 'none';\n",
              "\n",
              "        async function convertToInteractive(key) {\n",
              "          const element = document.querySelector('#df-1b36a122-a588-48c5-a17e-867a5556f303');\n",
              "          const dataTable =\n",
              "            await google.colab.kernel.invokeFunction('convertToInteractive',\n",
              "                                                     [key], {});\n",
              "          if (!dataTable) return;\n",
              "\n",
              "          const docLinkHtml = 'Like what you see? Visit the ' +\n",
              "            '<a target=\"_blank\" href=https://colab.research.google.com/notebooks/data_table.ipynb>data table notebook</a>'\n",
              "            + ' to learn more about interactive tables.';\n",
              "          element.innerHTML = '';\n",
              "          dataTable['output_type'] = 'display_data';\n",
              "          await google.colab.output.renderOutput(dataTable, element);\n",
              "          const docLink = document.createElement('div');\n",
              "          docLink.innerHTML = docLinkHtml;\n",
              "          element.appendChild(docLink);\n",
              "        }\n",
              "      </script>\n",
              "    </div>\n",
              "  </div>\n",
              "  "
            ]
          },
          "metadata": {},
          "execution_count": 43
        }
      ],
      "source": [
        "#Correlation Matrix\n",
        "data.corr()"
      ]
    },
    {
      "cell_type": "code",
      "execution_count": null,
      "metadata": {
        "id": "7hAh7f41eZYU"
      },
      "outputs": [],
      "source": [
        "plt.figure(figsize=(10,10))\n",
        "sns.heatmap(data.corr(),annot=True)"
      ]
    },
    {
      "cell_type": "code",
      "execution_count": null,
      "metadata": {
        "id": "1wJTymUOeZYl"
      },
      "outputs": [],
      "source": [
        "#Train and Test Data\n",
        "train=data.drop(\"suicides_no\",axis=1)\n",
        "test=data[\"suicides_no\"]"
      ]
    },
    {
      "cell_type": "code",
      "execution_count": null,
      "metadata": {
        "id": "ucDp__lkeZY1"
      },
      "outputs": [],
      "source": [
        "sns.set_style('whitegrid') \t"
      ]
    },
    {
      "cell_type": "code",
      "execution_count": null,
      "metadata": {
        "id": "RWscDsvYeZY6"
      },
      "outputs": [],
      "source": [
        "sns.distplot(train['population'],bins=100)"
      ]
    },
    {
      "cell_type": "code",
      "execution_count": null,
      "metadata": {
        "id": "_EtBEXcCeZZB"
      },
      "outputs": [],
      "source": [
        "sns.distplot(np.log(train['population']),bins=100)"
      ]
    },
    {
      "cell_type": "markdown",
      "metadata": {
        "id": "twpuhiWXSTa3"
      },
      "source": [
        "**<h3> Studying Trends between Year and Suicide Numbers**"
      ]
    },
    {
      "cell_type": "code",
      "execution_count": null,
      "metadata": {
        "id": "XwrzHefGeZZH"
      },
      "outputs": [],
      "source": [
        "fig, ax = plt.subplots()\n",
        "# the size of A4 paper\n",
        "fig.set_size_inches(13.7, 10.27)\n",
        "sns.barplot(x='year',y='suicides_no',data=data,ax=ax)"
      ]
    },
    {
      "cell_type": "markdown",
      "metadata": {
        "id": "Ab7GZSw7Sm0R"
      },
      "source": [
        "**<h3> Studying Trends between Year and Population**"
      ]
    },
    {
      "cell_type": "code",
      "execution_count": null,
      "metadata": {
        "id": "ZKmMmjVKeZZT"
      },
      "outputs": [],
      "source": [
        "fig, ax = plt.subplots()\n",
        "# the size of A4 paper\n",
        "fig.set_size_inches(13.7, 10.27)\n",
        "sns.barplot(x='year',y='population',data=train) \t"
      ]
    },
    {
      "cell_type": "code",
      "execution_count": null,
      "metadata": {
        "id": "h0QNVE4ueZas"
      },
      "outputs": [],
      "source": [
        "#Analysis Of all feautres \n",
        "sns.pairplot(data,hue=\"sex\")"
      ]
    },
    {
      "cell_type": "markdown",
      "metadata": {
        "id": "3uMq4nw-ET3l"
      },
      "source": [
        "**<h2> Machine Learning Model**"
      ]
    },
    {
      "cell_type": "code",
      "execution_count": null,
      "metadata": {
        "id": "pV4AdAACeZZk"
      },
      "outputs": [],
      "source": [
        "#Library for Training Model\n",
        "from sklearn import model_selection"
      ]
    },
    {
      "cell_type": "code",
      "execution_count": null,
      "metadata": {
        "id": "gyofdgmpeZZp"
      },
      "outputs": [],
      "source": [
        "#Train Test Split\n",
        "x_train,x_test,y_train,y_test=model_selection.train_test_split(train,test)"
      ]
    },
    {
      "cell_type": "code",
      "execution_count": null,
      "metadata": {
        "id": "1Io7y8tTeZZt"
      },
      "outputs": [],
      "source": [
        "#Training will be done by RandomForest Algorithm\n",
        "from sklearn.ensemble import RandomForestRegressor\n",
        "from sklearn.linear_model import LinearRegression"
      ]
    },
    {
      "cell_type": "code",
      "execution_count": null,
      "metadata": {
        "id": "1Twb5VHAeZZx"
      },
      "outputs": [],
      "source": [
        "alg1=RandomForestRegressor(n_estimators=50,random_state=0,criterion=\"mse\")\n",
        "alg1.fit(x_train,y_train)"
      ]
    },
    {
      "cell_type": "code",
      "execution_count": null,
      "metadata": {
        "id": "A4mOoKvLeZZ7"
      },
      "outputs": [],
      "source": [
        "alg2=LinearRegression()\n",
        "alg2.fit(x_train,y_train)"
      ]
    },
    {
      "cell_type": "code",
      "execution_count": null,
      "metadata": {
        "id": "k5MDqnw6eZaP"
      },
      "outputs": [],
      "source": [
        "#Prediction\n",
        "y_pred_1=alg1.predict(x_test)\n",
        "y_pred_2=alg2.predict(x_test)"
      ]
    },
    {
      "cell_type": "code",
      "execution_count": null,
      "metadata": {
        "id": "EQeQxgy0TGoJ"
      },
      "outputs": [],
      "source": [
        "from sklearn import metrics"
      ]
    },
    {
      "cell_type": "code",
      "execution_count": null,
      "metadata": {
        "id": "yAvyfnlleZaU"
      },
      "outputs": [],
      "source": [
        "print(\"Random Forest RMSE:\",np.sqrt(metrics.mean_squared_error(y_test,y_pred_1)))\n",
        "print(\"Linear Regression RMSE:\",np.sqrt(metrics.mean_squared_error(y_test,y_pred_2)))"
      ]
    }
  ],
  "metadata": {
    "colab": {
      "collapsed_sections": [],
      "name": "Suicide_rate_trend_analysis.ipynb",
      "provenance": []
    },
    "kernelspec": {
      "display_name": "Python 3",
      "language": "python",
      "name": "python3"
    },
    "language_info": {
      "codemirror_mode": {
        "name": "ipython",
        "version": 3
      },
      "file_extension": ".py",
      "mimetype": "text/x-python",
      "name": "python",
      "nbconvert_exporter": "python",
      "pygments_lexer": "ipython3",
      "version": "3.7.3"
    }
  },
  "nbformat": 4,
  "nbformat_minor": 0
}